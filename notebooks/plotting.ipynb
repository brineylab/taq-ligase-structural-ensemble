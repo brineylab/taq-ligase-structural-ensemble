import os
import numpy as np
import MDAnalysis as mda
from MDAnalysis.analysis import rms
from sklearn.decomposition import PCA
from sklearn.cluster import KMeans
import pandas as pd
from typing import List, Tuple
import matplotlib.pyplot as plt

# Define the step numbers in a list
step_numbers = ["0", "1", "2", "3a", "3b"]


def construct_paths(step_number: str) -> dict:
    base_path = f"../taq/af3preds/step_{step_number}"
    return {
        "cif_directory": os.path.join(base_path, "extracted/"),
        "main_folder": os.path.join(base_path, "pdbs/"),
        "save_path": os.path.join(base_path, "cluster.png"),
        "rmsf_csv": os.path.join(base_path, "rmsf.csv"),
        "ref_rmsd_csv": os.path.join(base_path, "ref_rmsd.csv"),
        "domain_csv": os.path.join(base_path, "domains.csv"),
        "rmsd_matrix_path": os.path.join(base_path, "rmsd_matrix.npy"),
    }


def get_pdb_files(main_folder: str) -> List[str]:
    return [
        os.path.join(main_folder, f)
        for f in os.listdir(main_folder)
        if f.endswith(".pdb")
    ]


def calculate_pairwise_rmsd(pdb_files: List[str]) -> np.ndarray:
    n = len(pdb_files)
    rmsd_matrix = np.zeros((n, n))
    for i in range(n):
        u1 = mda.Universe(pdb_files[i])
        for j in range(i, n):
            u2 = mda.Universe(pdb_files[j])
            rmsd_val = rms.rmsd(
                u1.select_atoms("backbone").positions,
                u2.select_atoms("backbone").positions,
                center=True,
                superposition=True,
            )
            rmsd_matrix[i, j] = rmsd_val
            rmsd_matrix[j, i] = rmsd_val
    return rmsd_matrix


def calculate_rmsd_with_reference(pdb_files: List[str]) -> List[float]:
    ref_u = mda.Universe(pdb_files[0])
    return [
        rms.rmsd(
            mda.Universe(pdb_file).select_atoms("protein and backbone").positions,
            ref_u.select_atoms("protein and backbone").positions,
            center=True,
            superposition=True,
        )
        for pdb_file in pdb_files
    ]


def calculate_domain_rmsd(pdb_files: List[str]) -> List[List[float]]:
    ref_u = mda.Universe(pdb_files[0])
    groupselections = [
        "backbone and (resid 1-29 or resid 60-121 or resid 160-214)",  # CORE
        "backbone and resid 122-159",  # LID
        "backbone and resid 30-59",  # NMP
    ]
    return [
        [
            rms.rmsd(
                mda.Universe(pdb_file).select_atoms(sel).positions,
                ref_u.select_atoms(sel).positions,
                center=True,
                superposition=True,
            )
            for sel in groupselections
        ]
        for pdb_file in pdb_files
    ]


# Function to check and load or compute RMSD matrix
def load_or_compute_rmsd_matrix(
    pdb_files: List[str], rmsd_matrix_path: str
) -> np.ndarray:
    if os.path.exists(rmsd_matrix_path):
        return np.load(rmsd_matrix_path)
    rmsd_matrix = calculate_pairwise_rmsd(pdb_files)
    np.save(rmsd_matrix_path, rmsd_matrix)
    return rmsd_matrix


# Function to compute or load CSV data
def load_or_compute_csv(path: str, compute_func, *args, **kwargs):
    if os.path.exists(path):
        return pd.read_csv(path)
    data = compute_func(*args, **kwargs)
    pd.DataFrame(data).to_csv(path, index=False)
    return pd.DataFrame(data)


def plot_pca_clusters(
    reduced_data: np.ndarray,
    labels: np.ndarray,
    title: str,
    save_path: str,
    colors: list,
    show_legend: bool = True,
) -> None:
    # Ensure the number of colors matches the number of unique labels
    unique_labels = np.unique(labels)
    if len(unique_labels) > len(colors):
        raise ValueError(
            "Number of colors provided is less than the number of unique labels."
        )

    # Create a color map from the provided colors
    color_map = {label: colors[i] for i, label in enumerate(unique_labels)}

    # Map each label to the corresponding color
    label_colors = np.array([color_map[label] for label in labels])

    fig_size: tuple[int, int] = (2, 2)
    plt.figure(figsize=fig_size)
    scatter = plt.scatter(
        reduced_data[:, 0], reduced_data[:, 1], c=label_colors, alpha=0.5, s=80
    )
    plt.xlabel("PC1")
    plt.ylabel("PC2")
    plt.xlim(-100, 100)
    plt.ylim(-100, 100)
    plt.xticks([-100, -50, 0, 50, 100])
    plt.yticks([-100, -50, 0, 50, 100])
    plt.title(title)

    # Customize the plot appearance
    ax = plt.gca()

    # Remove the plot border
    for spine in ax.spines.values():
        spine.set_visible(False)

    # Make axis lines and ticks thinner
    ax.tick_params(
        width=0.1, length=8, color="#4B4453", pad=6, labelsize=10, labelcolor="#23293B"
    )

    # Create a custom legend if show_legend is True
    if show_legend:
        handles = [
            plt.Line2D(
                [0],
                [0],
                marker="o",
                color="w",
                markerfacecolor=color_map[label],
                markersize=10,
            )
            for label in unique_labels
        ]
        plt.legend(handles, unique_labels, title="Cluster Label")

    plt.savefig(save_path, dpi=600, bbox_inches="tight")


def plot_rmsf(paths, save_path):
    # Load the RMSF data from the CSV file
    rmsf_csv_path = paths["rmsf_csv"]
    rmsf_data = pd.read_csv(rmsf_csv_path)

    fig_size = (7, 2)
    plt.figure(figsize=fig_size)

    # Plot RMSF using data from CSV
    plt.plot(
        rmsf_data["Residue_number"], rmsf_data["RMSF"], color="gray", linewidth=0.5
    )
    plt.xlabel("Residue number")
    plt.ylabel("RMSF ($\AA$)")

    # Define regions and their properties
    regions = [
        {"start": 34, "end": 38, "color": "#FF9671", "label": "AdD"},
        {"start": 84, "end": 85, "color": "#FF9671", "label": "AdD"},
        {"start": 116, "end": 117, "color": "#FF9671", "label": "AdD"},
        {"start": 139, "end": 140, "color": "#FF9671", "label": "AdD"},
        {"start": 174, "end": 175, "color": "#FF9671", "label": "AdD"},
        {"start": 294, "end": 295, "color": "#FF9671", "label": "AdD"},
        {"start": 318, "end": 320, "color": "#FF9671", "label": "AdD"},
        {"start": 408, "end": 432, "color": "#2C73D2", "label": "ZNB"},
        {"start": 334, "end": 338, "color": "#008F7A", "label": "OBD"},
        {"start": 454, "end": 459, "color": "#008F7A", "label": "OBD"},
        {"start": 520, "end": 525, "color": "#008F7A", "label": "OBD"},
        {"start": 552, "end": 557, "color": "#008F7A", "label": "OBD"},
        {"start": 472, "end": 548, "color": "#845EC2", "label": "HhH"},
        {"start": 589, "end": 676, "color": "#D65DB1", "label": "BRCT"},
    ]

    # Plot regions
    for region in regions:
        plt.axvspan(
            region["start"],
            region["end"],
            zorder=0,
            alpha=0.2,
            color=region["color"],
            label=region["label"],
        )

    # Customize legend
    handles, labels = plt.gca().get_legend_handles_labels()
    unique_labels = list(set(labels))  # Get unique labels
    plt.legend(
        [handles[labels.index(label)] for label in unique_labels],
        unique_labels,
        bbox_to_anchor=(0.5, -0.35),
        loc="upper center",
        ncol=5,
        frameon=False,
    )

    plt.ylim(0, 30)
    plt.yticks(np.arange(0, 31, 5))
    ax = plt.gca()
    ax.spines["top"].set_visible(False)
    ax.spines["right"].set_visible(False)
    ax.spines["left"].set_visible(False)
    ax.spines["bottom"].set_visible(True)
    ax.spines["bottom"].set_linewidth(0.25)

    ax.tick_params(
        width=0.25,
        length=10,
        color="#4B4453",
        pad=10,
        labelsize=12,
        labelcolor="#4B4453",
    )

    plt.savefig(save_path, dpi=600, bbox_inches="tight")


def process_step(step_number: str) -> None:
    paths = construct_paths(step_number)
    pdb_files = get_pdb_files(paths["main_folder"])

    # Compute or load RMSD matrix
    rmsd_matrix = load_or_compute_rmsd_matrix(pdb_files, paths["rmsd_matrix_path"])

    # Reduce dimensionality with PCA
    pca = PCA(n_components=2)
    reduced_data = pca.fit_transform(rmsd_matrix)

    # Perform KMeans clustering
    kmeans = KMeans(n_clusters=5, random_state=42).fit(reduced_data)
    labels = kmeans.labels_

    plot_pca_clusters(
        reduced_data,
        labels,
        f"Step {step_number}",
        paths["save_path"],
        colors=["#FF6F91", "#2C73D2", "#008F7A", "#00C9A7", "#FFD662"],
        show_legend=False,
    )

    # Plot RMSF from CSV
    plot_rmsf(paths, f"../taq/af3preds/step_{step_number}/rmsf.png")

    # Calculate or load RMSD values with reference
    ref_rmsd_df = load_or_compute_csv(
        paths["ref_rmsd_csv"], calculate_rmsd_with_reference, pdb_files
    )
    domain_rmsd_df = load_or_compute_csv(
        paths["domain_csv"], calculate_domain_rmsd, pdb_files
    )
